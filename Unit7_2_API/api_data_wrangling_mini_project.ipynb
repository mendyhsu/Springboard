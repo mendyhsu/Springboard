{
 "cells": [
  {
   "cell_type": "markdown",
   "metadata": {},
   "source": [
    "# API mini project"
   ]
  },
  {
   "cell_type": "markdown",
   "metadata": {},
   "source": [
    "This exercise will require you to pull some data from the Qunadl API. Qaundl is currently the most widely used aggregator of financial market data."
   ]
  },
  {
   "cell_type": "markdown",
   "metadata": {},
   "source": [
    "As a first step, you will need to register a free account on the http://www.quandl.com website."
   ]
  },
  {
   "cell_type": "markdown",
   "metadata": {},
   "source": [
    "After you register, you will be provided with a unique API key, that you should store:"
   ]
  },
  {
   "cell_type": "code",
   "execution_count": 1,
   "metadata": {},
   "outputs": [],
   "source": [
    "# Store the API key as a string - according to PEP8, constants are always named in all upper case\n",
    "API_KEY = "
   ]
  },
  {
   "cell_type": "markdown",
   "metadata": {},
   "source": [
    "Qaundl has a large number of data sources, but, unfortunately, most of them require a Premium subscription. Still, there are also a good number of free datasets."
   ]
  },
  {
   "cell_type": "markdown",
   "metadata": {},
   "source": [
    "For this mini project, we will focus on equities data from the Frankfurt Stock Exchange (`FSE`), which is available for free. We'll try and analyze the stock prices of a company called Carl Zeiss Meditec, which manufactures tools for eye examinations, as well as medical lasers for laser eye surgery: https://www.zeiss.com/meditec/int/home.html. The company is listed under the stock ticker `AFX_X`."
   ]
  },
  {
   "cell_type": "markdown",
   "metadata": {},
   "source": [
    "You can find the detailed Quandl API instructions here: https://docs.quandl.com/docs/time-series"
   ]
  },
  {
   "cell_type": "markdown",
   "metadata": {},
   "source": [
    "While there is a dedicated Python package for connecting to the Quandl API, we would prefer that you use the *requests* package, which can be easily downloaded using *pip* or *conda*. You can find the documentation for the package here: http://docs.python-requests.org/en/master/ "
   ]
  },
  {
   "cell_type": "markdown",
   "metadata": {},
   "source": [
    "Finally, apart from the *requests* package, you are encouraged to not use any third party Python packages, such as *pandas*, and instead focus on what's available in the Python Standard Library (the *collections* module might come in handy: https://pymotw.com/3/collections/ ).\n",
    "Also, since you won't have access to DataFrames, you are encouraged to us Python's native data structures - preferably dictionaries, though some questions can also be answered using lists.\n",
    "You can read more on these data structures here: https://docs.python.org/3/tutorial/datastructures.html"
   ]
  },
  {
   "cell_type": "markdown",
   "metadata": {},
   "source": [
    "Keep in mind that the JSON responses you will be getting from the API map almost one-to-one to Python's dictionaries. Unfortunately, they can be very nested, so make sure you read up on indexing dictionaries in the documentation provided above."
   ]
  },
  {
   "cell_type": "code",
   "execution_count": 2,
   "metadata": {},
   "outputs": [],
   "source": [
    "# First, import the relevant modules\n",
    "import requests\n",
    "import json"
   ]
  },
  {
   "cell_type": "code",
   "execution_count": 3,
   "metadata": {},
   "outputs": [],
   "source": [
    "# Now, call the Quandl API and pull out a small sample of the data (only one day) to get a glimpse\n",
    "# into the JSON structure that will be returned\n",
    "url = 'https://www.quandl.com/api/v3/datasets/FSE/AFX_X/data.json'\n",
    "\n",
    "params = dict(start_date='2017-01-01',\n",
    "              end_date='2017-01-03',\n",
    "              order='asc',\n",
    "              api_key=API_KEY)\n",
    "\n",
    "r = requests.get(url, params)"
   ]
  },
  {
   "cell_type": "code",
   "execution_count": 4,
   "metadata": {},
   "outputs": [
    {
     "name": "stdout",
     "output_type": "stream",
     "text": [
      "{'Allow': 'GET, HEAD, POST, PUT, DELETE, OPTIONS, PATCH', 'Cache-Control': 'no-store', 'Content-Encoding': 'gzip', 'Content-Security-Policy': \"frame-ancestors 'self';\", 'Content-Type': 'application/json; charset=utf-8', 'Date': 'Thu, 01 Apr 2021 05:08:18 GMT', 'ETag': 'W/\"c9ae6f2b927713be295e694a1b39f209\"', 'Pragma': 'no-cache', 'Referrer-Policy': 'origin-when-cross-origin', 'Server': 'openresty', 'Strict-Transport-Security': 'max-age=31536000; includeSubDomains; preload', 'Vary': 'Origin', 'X-Content-Type-Options': 'nosniff', 'X-Frame-Options': 'SAMEORIGIN', 'X-Rack-CORS': 'miss; no-origin', 'X-RateLimit-Limit': '50000', 'X-RateLimit-Remaining': '49979', 'X-Request-Id': 'e245f599-91b9-46f2-ae3f-d40cd99d9b44', 'X-Runtime': '0.096120', 'X-XSS-Protection': '1; mode=block', 'Content-Length': '299', 'Connection': 'keep-alive', 'Set-Cookie': 'visid_incap_2261005=EqkeNFd0Q5CHVCtG6WWMwkJVZWAAAAAAQUIPAAAAAAB0TaR2hzPYEjsGzxTb+OiN; expires=Thu, 31 Mar 2022 18:04:39 GMT; HttpOnly; path=/; Domain=.quandl.com; Secure; SameSite=None, nlbi_2261005=kwQHOwav/XYnZYl9gSMXTwAAAABbPIg3io00nS1GU8CwsJuh; path=/; Domain=.quandl.com; Secure; SameSite=None, incap_ses_543_2261005=GhCSAZZoAHmVSfQM+B+JB0JVZWAAAAAAfTG6lrlcmHfQjC4gVs1Sgg==; path=/; Domain=.quandl.com; Secure; SameSite=None', 'X-CDN': 'Imperva', 'X-Iinfo': '10-305394221-305394235 NNNN CT(62 127 0) RT(1617253697691 41) q(0 0 2 -1) r(3 3) U2'}\n"
     ]
    }
   ],
   "source": [
    "print(r.headers)"
   ]
  },
  {
   "cell_type": "code",
   "execution_count": 5,
   "metadata": {},
   "outputs": [
    {
     "name": "stdout",
     "output_type": "stream",
     "text": [
      "{\"dataset_data\":{\"limit\":null,\"transform\":null,\"column_index\":null,\"column_names\":[\"Date\",\"Open\",\"High\",\"Low\",\"Close\",\"Change\",\"Traded Volume\",\"Turnover\",\"Last Price of the Day\",\"Daily Traded Units\",\"Daily Turnover\"],\"start_date\":\"2017-01-01\",\"end_date\":\"2017-01-03\",\"frequency\":\"daily\",\"data\":[[\"2017-01-02\",34.99,35.94,34.99,35.8,null,44700.0,1590561.0,null,null,null],[\"2017-01-03\",35.9,35.93,35.34,35.48,null,70618.0,2515473.0,null,null,null]],\"collapse\":null,\"order\":\"asc\"}}\n"
     ]
    }
   ],
   "source": [
    "print(r.text)"
   ]
  },
  {
   "cell_type": "code",
   "execution_count": 6,
   "metadata": {},
   "outputs": [
    {
     "name": "stdout",
     "output_type": "stream",
     "text": [
      "<class 'dict'>\n",
      "{'dataset_data': {'limit': None, 'transform': None, 'column_index': None, 'column_names': ['Date', 'Open', 'High', 'Low', 'Close', 'Change', 'Traded Volume', 'Turnover', 'Last Price of the Day', 'Daily Traded Units', 'Daily Turnover'], 'start_date': '2017-01-01', 'end_date': '2017-01-03', 'frequency': 'daily', 'data': [['2017-01-02', 34.99, 35.94, 34.99, 35.8, None, 44700.0, 1590561.0, None, None, None], ['2017-01-03', 35.9, 35.93, 35.34, 35.48, None, 70618.0, 2515473.0, None, None, None]], 'collapse': None, 'order': 'asc'}}\n"
     ]
    }
   ],
   "source": [
    "# Inspect the JSON structure of the object you created, and take note of how nested it is,\n",
    "# as well as the overall structure\n",
    "json_data = r.json()\n",
    "\n",
    "print(type(json_data))\n",
    "print(json_data)"
   ]
  },
  {
   "cell_type": "code",
   "execution_count": 7,
   "metadata": {},
   "outputs": [
    {
     "name": "stdout",
     "output_type": "stream",
     "text": [
      "limit: None \n",
      "\n",
      "transform: None \n",
      "\n",
      "column_index: None \n",
      "\n",
      "column_names: ['Date', 'Open', 'High', 'Low', 'Close', 'Change', 'Traded Volume', 'Turnover', 'Last Price of the Day', 'Daily Traded Units', 'Daily Turnover'] \n",
      "\n",
      "start_date: 2017-01-01 \n",
      "\n",
      "end_date: 2017-01-03 \n",
      "\n",
      "frequency: daily \n",
      "\n",
      "data: [['2017-01-02', 34.99, 35.94, 34.99, 35.8, None, 44700.0, 1590561.0, None, None, None], ['2017-01-03', 35.9, 35.93, 35.34, 35.48, None, 70618.0, 2515473.0, None, None, None]] \n",
      "\n",
      "collapse: None \n",
      "\n",
      "order: asc \n",
      "\n"
     ]
    }
   ],
   "source": [
    "for key, values in json_data['dataset_data'].items():\n",
    "    print(key + ':', values, '\\n')"
   ]
  },
  {
   "cell_type": "markdown",
   "metadata": {},
   "source": [
    "These are your tasks for this mini project:\n",
    "\n",
    "1. Collect data from the Franfurt Stock Exchange, for the ticker AFX_X, for the whole year 2017 (keep in mind that the date format is YYYY-MM-DD).\n",
    "2. Convert the returned JSON object into a Python dictionary.\n",
    "3. Calculate what the highest and lowest opening prices were for the stock in this period.\n",
    "4. What was the largest change in any one day (based on High and Low price)?\n",
    "5. What was the largest change between any two days (based on Closing Price)?\n",
    "6. What was the average daily trading volume during this year?\n",
    "7. (Optional) What was the median trading volume during this year. (Note: you may need to implement your own function for calculating the median.)"
   ]
  },
  {
   "cell_type": "markdown",
   "metadata": {},
   "source": [
    "### 1. Collect data from the Franfurt Stock Exchange, for the ticker AFX_X, for the whole year 2017."
   ]
  },
  {
   "cell_type": "code",
   "execution_count": 8,
   "metadata": {},
   "outputs": [],
   "source": [
    "url = 'https://www.quandl.com/api/v3/datasets/FSE/AFX_X/data.json'\n",
    "\n",
    "params = dict(start_date='2017-01-01',\n",
    "              end_date='2017-12-31',\n",
    "              order='asc',\n",
    "              api_key=API_KEY)\n",
    "\n",
    "r = requests.get(url, params)"
   ]
  },
  {
   "cell_type": "markdown",
   "metadata": {},
   "source": [
    "### 2. Convert the returned JSON object into a Python dictionary."
   ]
  },
  {
   "cell_type": "code",
   "execution_count": 9,
   "metadata": {},
   "outputs": [],
   "source": [
    "json_data = r.json()"
   ]
  },
  {
   "cell_type": "code",
   "execution_count": 10,
   "metadata": {},
   "outputs": [
    {
     "data": {
      "text/plain": [
       "['Date',\n",
       " 'Open',\n",
       " 'High',\n",
       " 'Low',\n",
       " 'Close',\n",
       " 'Change',\n",
       " 'Traded Volume',\n",
       " 'Turnover',\n",
       " 'Last Price of the Day',\n",
       " 'Daily Traded Units',\n",
       " 'Daily Turnover']"
      ]
     },
     "metadata": {},
     "output_type": "display_data"
    }
   ],
   "source": [
    "column_names = json_data['dataset_data']['column_names']\n",
    "display(column_names)"
   ]
  },
  {
   "cell_type": "markdown",
   "metadata": {},
   "source": [
    "### 3. Calculate what the highest and lowest opening prices were for the stock in this period."
   ]
  },
  {
   "cell_type": "code",
   "execution_count": 11,
   "metadata": {},
   "outputs": [
    {
     "name": "stdout",
     "output_type": "stream",
     "text": [
      "The highest opening prices was $53.11 occurring on 2017-12-14\n",
      "The lowest opening prices was $34.0 occurring on 2017-01-24\n"
     ]
    }
   ],
   "source": [
    "open_col = column_names.index('Open')\n",
    "\n",
    "open_prices = {\n",
    "    item[0]: item[open_col]\n",
    "    for item in json_data['dataset_data']['data'] if item[open_col] != None\n",
    "}\n",
    "\n",
    "pirce_list = list(open_prices.values())\n",
    "date_list = list(open_prices.keys())\n",
    "\n",
    "high_open = max(pirce_list)\n",
    "low_open = min(pirce_list)\n",
    "\n",
    "ind_high = pirce_list.index(high_open)\n",
    "ind_low = pirce_list.index(low_open)\n",
    "\n",
    "print('The highest opening prices was $' + str(high_open), 'occurring on',\n",
    "      date_list[ind_high])\n",
    "print('The lowest opening prices was $' + str(low_open), 'occurring on',\n",
    "      date_list[ind_low])"
   ]
  },
  {
   "cell_type": "markdown",
   "metadata": {},
   "source": [
    "### 4. What was the largest change in any one day (based on High and Low price)?"
   ]
  },
  {
   "cell_type": "code",
   "execution_count": 12,
   "metadata": {},
   "outputs": [
    {
     "name": "stdout",
     "output_type": "stream",
     "text": [
      "The largest daily changes was $2.81 on 2017-05-11\n"
     ]
    }
   ],
   "source": [
    "high_col = column_names.index('High')\n",
    "low_col = column_names.index('Low')\n",
    "\n",
    "largest_change = 0\n",
    "\n",
    "for item in json_data['dataset_data']['data']:\n",
    "    price_change = item[high_col] - item[low_col]\n",
    "\n",
    "    if price_change > largest_change:\n",
    "        largest_change = price_change\n",
    "        day_date = item\n",
    "\n",
    "print('The largest daily changes was $' + str(round(largest_change, 2)) +\n",
    "      ' on ' + day_date[0])"
   ]
  },
  {
   "cell_type": "markdown",
   "metadata": {},
   "source": [
    "### 5. What was the largest change between any two days (based on Closing Price)?"
   ]
  },
  {
   "cell_type": "code",
   "execution_count": 13,
   "metadata": {},
   "outputs": [
    {
     "name": "stdout",
     "output_type": "stream",
     "text": [
      "The largest changes based on Closing Price was $-2.56 that happened between 2017-08-08 and 2017-08-09\n"
     ]
    }
   ],
   "source": [
    "close_col = column_names.index('Close')\n",
    "date_col = column_names.index('Date')\n",
    "\n",
    "largest_change = 0\n",
    "pre_close = json_data['dataset_data']['data'][0][close_col]\n",
    "\n",
    "for i, item in enumerate(json_data['dataset_data']['data']):\n",
    "    price_change = item[close_col] - pre_close\n",
    "\n",
    "    if abs(price_change) > abs(largest_change):\n",
    "        largest_change = price_change\n",
    "        day2_ind = i\n",
    "\n",
    "    pre_close = item[close_col]\n",
    "\n",
    "print('The largest changes based on Closing Price was $' +\n",
    "      str(round(largest_change, 2)) + ' that happened between ' +\n",
    "      json_data['dataset_data']['data'][day2_ind - 1][date_col] + ' and ' +\n",
    "      json_data['dataset_data']['data'][day2_ind][date_col])"
   ]
  },
  {
   "cell_type": "markdown",
   "metadata": {},
   "source": [
    "### 6. What was the average daily trading volume during this year?"
   ]
  },
  {
   "cell_type": "code",
   "execution_count": 14,
   "metadata": {},
   "outputs": [
    {
     "name": "stdout",
     "output_type": "stream",
     "text": [
      "The average daily trading volume during 2017 was $89124.34\n"
     ]
    }
   ],
   "source": [
    "traded_vol_col = column_names.index('Traded Volume')\n",
    "sum_traded_vol = 0\n",
    "\n",
    "for item in json_data['dataset_data']['data']:\n",
    "    sum_traded_vol += item[traded_vol_col]\n",
    "\n",
    "avg_traded_vol = sum_traded_vol / len(json_data['dataset_data']['data'])\n",
    "\n",
    "print('The average daily trading volume during 2017 was $' +\n",
    "      str(round(avg_traded_vol, 2)))"
   ]
  },
  {
   "cell_type": "markdown",
   "metadata": {},
   "source": [
    "### 7. (Optional) What was the median trading volume during this year. (Note: you may need to implement your own function for calculating the median.)"
   ]
  },
  {
   "cell_type": "code",
   "execution_count": 15,
   "metadata": {},
   "outputs": [
    {
     "name": "stdout",
     "output_type": "stream",
     "text": [
      "There were 255 stock trading days in 2017.\n"
     ]
    }
   ],
   "source": [
    "traded_vol_col = column_names.index('Traded Volume')\n",
    "traded_vol_daily = []  # list for storing daily trading volume\n",
    "\n",
    "traded_vol_daily = [item[traded_vol_col] for item in json_data['dataset_data']['data']]\n",
    "num_day_open = len(traded_vol_daily)\n",
    "\n",
    "print('There were', num_day_open, 'stock trading days in 2017.')"
   ]
  },
  {
   "cell_type": "code",
   "execution_count": 16,
   "metadata": {},
   "outputs": [
    {
     "name": "stdout",
     "output_type": "stream",
     "text": [
      "The median trading volume during 2017 was $76286.0\n"
     ]
    }
   ],
   "source": [
    "def my_median(input_list):\n",
    "    sorted_list = sorted(input_list)  # sort the list\n",
    "    list_len = len(sorted_list)\n",
    "    median_ind = list_len // 2\n",
    "\n",
    "    if list_len % 2 == 1:  # odd number of observation\n",
    "        median = sorted_list[median_ind]\n",
    "\n",
    "    else:  # even number of observation\n",
    "        median = (sorted_list[median_ind - 1] + sorted_list[median_ind]) / 2\n",
    "\n",
    "    return median\n",
    "\n",
    "\n",
    "print('The median trading volume during 2017 was $' +\n",
    "      str(round(my_median(traded_vol_daily), 1)))"
   ]
  }
 ],
 "metadata": {
  "hide_input": false,
  "kernelspec": {
   "display_name": "Python 3",
   "language": "python",
   "name": "python3"
  },
  "language_info": {
   "codemirror_mode": {
    "name": "ipython",
    "version": 3
   },
   "file_extension": ".py",
   "mimetype": "text/x-python",
   "name": "python",
   "nbconvert_exporter": "python",
   "pygments_lexer": "ipython3",
   "version": "3.7.10"
  }
 },
 "nbformat": 4,
 "nbformat_minor": 2
}
